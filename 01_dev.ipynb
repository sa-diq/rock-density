{
 "cells": [
  {
   "cell_type": "code",
   "execution_count": null,
   "id": "db67626c",
   "metadata": {},
   "outputs": [],
   "source": []
  },
  {
   "cell_type": "markdown",
   "id": "cac49efc",
   "metadata": {},
   "source": [
    "# Q-P Plots Data Mining Development"
   ]
  },
  {
   "cell_type": "markdown",
   "id": "f55cba43",
   "metadata": {},
   "source": [
    "## Imports"
   ]
  },
  {
   "cell_type": "code",
   "execution_count": null,
   "id": "d8229a37",
   "metadata": {},
   "outputs": [],
   "source": [
    "# %matplotlib qt\n",
    "import numpy as np\n",
    "import matplotlib.pyplot as plt\n",
    "import matplotlib.image as mpimg\n",
    "import pandas as pd\n",
    "import time\n",
    "import os\n",
    "import cv2\n",
    "import warnings\n",
    "# Suppress warnings\n",
    "warnings.filterwarnings(\"ignore\")"
   ]
  },
  {
   "cell_type": "markdown",
   "id": "a32d5727",
   "metadata": {},
   "source": [
    "## Load Image"
   ]
  },
  {
   "cell_type": "code",
   "execution_count": null,
   "id": "0cf9e34d",
   "metadata": {},
   "outputs": [],
   "source": [
    "IMAGE_PATH = 'figure/fig8.png'\n",
    "# Set default figure size\n",
    "plt.rcParams['figure.figsize'] = (10, 10)\n",
    "plt.rcParams['figure.dpi'] = 150\n",
    "# Set default font size\n",
    "plt.rcParams['font.size'] = 14\n",
    "\n",
    "# Load image\n",
    "img = mpimg.imread(IMAGE_PATH)\n",
    "# Plot image\n",
    "plt.imshow(img)\n",
    "plt.axis('off')\n",
    "plt.show()"
   ]
  },
  {
   "cell_type": "markdown",
   "id": "a599ce5b",
   "metadata": {},
   "source": [
    "## Plot Characteristics"
   ]
  },
  {
   "cell_type": "code",
   "execution_count": null,
   "id": "84eb86c2",
   "metadata": {},
   "outputs": [],
   "source": [
    "# Prompt user to enter the name of the plot\n",
    "plot_name = input(\"Enter the name of the plot(Author(s)_Year_FigureNumber): \") # Note: we can decide collect the author(s), year, and figure number separately. Liase with Dave.\n",
    "# Prompt user for number of sandstones in the plot\n",
    "num_sandstones = int(input(\"Enter the number of sandstones in the plot: \"))\n",
    "while num_sandstones <= 0:\n",
    "    print(\"Please enter a positive integer.\")\n",
    "    num_sandstones = int(input(\"Enter the number of sandstones in the plot: \"))\n",
    "\n",
    "sandstone_names = []\n",
    "for sandstone_index in range(num_sandstones):\n",
    "    name = input(f\"Enter the name of sandstone {sandstone_index + 1}: \")\n",
    "    sandstone_names.append(name.strip().title())\n",
    "\n",
    "print(f\"\\nPlot name: {plot_name}\")\n",
    "print(f\"\\nSandstone names: {sandstone_names}\")"
   ]
  },
  {
   "cell_type": "markdown",
   "id": "f1fd9ab4",
   "metadata": {},
   "source": [
    "## X and Y Axes Calibration"
   ]
  },
  {
   "cell_type": "code",
   "execution_count": null,
   "id": "a40b3384",
   "metadata": {},
   "outputs": [],
   "source": [
    "# X-Axis\n",
    "plt.imshow(img)\n",
    "plt.title(\"Click the Minimum and the Maximum Points on the X-Axis\")\n",
    "x_axis_points = plt.ginput(2, timeout=0)\n",
    "plt.close()\n",
    "\n",
    "x1_pixel, y1_pixel = x_axis_points[0]\n",
    "x2_pixel, y2_pixel = x_axis_points[1]\n",
    "\n",
    "x1_data = int(input(\"Enter the value of the minimum point on the X-axis: \"))\n",
    "x2_data = int(input(\"Enter the value of the maximum point on the X-axis: \"))\n",
    "\n",
    "# Y-Axis\n",
    "plt.imshow(img)\n",
    "plt.title(\"Click the Minimum and the Maximum Points on the X-Axis\")\n",
    "y_axis_points = plt.ginput(2, timeout=0)\n",
    "plt.close()\n",
    "\n",
    "x3_pixel, y3_pixel = y_axis_points[0]\n",
    "x4_pixel, y4_pixel = y_axis_points[1]\n",
    "\n",
    "y1_data = int(input(\"Enter the value of the minimum point on the X-axis: \"))\n",
    "y2_data = int(input(\"Enter the value of the maximum point on the X-axis: \"))\n",
    "\n",
    "\n",
    "def pixel_to_data(x_pixel, y_pixel):\n",
    "    x_data = x1_data + (x_pixel - x1_pixel) * (x2_data - x1_data) / (x2_pixel - x1_pixel)\n",
    "    y_data = y1_data + (y_pixel - y3_pixel) * (y2_data - y1_data) / (y4_pixel - y3_pixel)\n",
    "    return x_data, y_data\n",
    "\n"
   ]
  },
  {
   "cell_type": "markdown",
   "id": "9977e64f",
   "metadata": {},
   "source": [
    "## Data Point Extraction"
   ]
  },
  {
   "cell_type": "code",
   "execution_count": null,
   "id": "2ecdb8b8-9b29-454e-8bd6-a81405b11263",
   "metadata": {},
   "outputs": [],
   "source": [
    "all_data_points = []\n",
    "\n",
    "for i in range(num_sandstones):\n",
    "    plt.figure(figsize=(8, 8))\n",
    "    plt.imshow(img)\n",
    "    plt.title(f\"Click on data points for {sandstone_names[i]}.\\nClose the window when done.\")\n",
    "    data_points = plt.ginput(n=-1, timeout=0)\n",
    "    plt.close()\n",
    "\n",
    "    for x, y in data_points:\n",
    "        x_data, y_data = pixel_to_data(x, y)\n",
    "        all_data_points.append({\n",
    "            'dataset': sandstone_names[i],\n",
    "            'x_pixel': x,\n",
    "            'y_pixel': y,\n",
    "            'x_data': x_data,\n",
    "            'y_data': y_data\n",
    "        })\n",
    "\n",
    "    print(f\"Collected {len(data_points)} points for {sandstone_names[i]}\")\n"
   ]
  }
 ],
 "metadata": {
  "kernelspec": {
   "display_name": "env",
   "language": "python",
   "name": "python3"
  },
  "language_info": {
   "codemirror_mode": {
    "name": "ipython",
    "version": 3
   },
   "file_extension": ".py",
   "mimetype": "text/x-python",
   "name": "python",
   "nbconvert_exporter": "python",
   "pygments_lexer": "ipython3",
   "version": "3.10.16"
  }
 },
 "nbformat": 4,
 "nbformat_minor": 5
}
